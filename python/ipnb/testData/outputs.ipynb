{
 "metadata": {
  "name": "",
  "signature": "sha256:0b4b631419772e40e0f4893f5a0f0fe089a39e46c8862af0256164628394302d"
 },
 "nbformat": 3,
 "nbformat_minor": 0,
 "worksheets": [
  {
   "cells": [
    {
         "cell_type": "code",
         "collapsed": false,
         "input": [
          "srepr(e)"
         ],
         "language": "python",
         "metadata": {},
         "outputs": [
          {
           "metadata": {},
           "output_type": "pyout",
           "prompt_number": 5,
           "text": [
            "\"Add(Symbol('x'), Mul(Integer(2), Symbol('y')))\""
           ]
          }
         ],
         "prompt_number": 5
        }
    ]
  }
  ]
}