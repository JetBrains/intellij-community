{
 "metadata": {
  "name": "",
  "signature": "sha256:a0f4cda82587c5b8e7a4502192d1210abedac9084077604eb60aea15f262a344"
 },
 "nbformat": 3,
 "nbformat_minor": 0,
 "worksheets": [
  {
   "cells": [
    {
     "cell_type": "markdown",
     "metadata": {},
     "source": [
      "# SymPy: Open Source Symbolic Mathematics\n",
      "\n",
      "This notebook uses the [SymPy](http://sympy.org) package to perform symbolic manipulations,\n",
      "and combined with numpy and matplotlib, also displays numerical visualizations of symbolically\n",
      "constructed expressions.\n",
      "\n",
      "We first load sympy printing extensions, as well as all of sympy:"
     ]
    },
    {
     "cell_type": "code",
     "collapsed": false,
     "input": [
      "from IPython.display import display\n",
      "\n",
      "from sympy.interactive import printing\n",
      "printing.init_printing(use_latex='mathjax')\n",
      "\n",
      "from __future__ import division\n",
      "import sympy as sym\n",
      "from sympy import *\n",
      "x, y, z = symbols(\"x y z\")\n",
      "k, m, n = symbols(\"k m n\", integer=True)\n",
      "f, g, h = map(Function, 'fgh')"
     ],
     "language": "python",
     "metadata": {},
     "outputs": [],
     "prompt_number": 1
    },
    {
     "cell_type": "markdown",
     "metadata": {},
     "source": [
      "<h2>Elementary operations</h2>"
     ]
    },
    {
     "cell_type": "code",
     "collapsed": false,
     "input": [
      "Rational(3,2)*pi + exp(I*x) / (x**2 + y)"
     ],
     "language": "python",
     "metadata": {},
     "outputs": [
      {
       "latex": [
        "$$\\frac{3 \\pi}{2} + \\frac{e^{i x}}{x^{2} + y}$$"
       ],
       "metadata": {},
       "output_type": "pyout",
       "prompt_number": 2,
       "text": [
        "        \u2148\u22c5x \n",
        "3\u22c5\u03c0    \u212f    \n",
        "\u2500\u2500\u2500 + \u2500\u2500\u2500\u2500\u2500\u2500\n",
        " 2     2    \n",
        "      x  + y"
       ]
      }
     ],
     "prompt_number": 2
    },
    {
     "cell_type": "code",
     "collapsed": false,
     "input": [
      "exp(I*x).subs(x,pi).evalf()"
     ],
     "language": "python",
     "metadata": {},
     "outputs": [
      {
       "latex": [
        "$$-1.0$$"
       ],
       "metadata": {},
       "output_type": "pyout",
       "prompt_number": 3,
       "text": [
        "-1.00000000000000"
       ]
      }
     ],
     "prompt_number": 3
    },
    {
     "cell_type": "code",
     "collapsed": true,
     "input": [
      "e = x + 2*y"
     ],
     "language": "python",
     "metadata": {},
     "outputs": [],
     "prompt_number": 4
    },
    {
     "cell_type": "code",
     "collapsed": false,
     "input": [
      "srepr(e)"
     ],
     "language": "python",
     "metadata": {},
     "outputs": [
      {
       "metadata": {},
       "output_type": "pyout",
       "prompt_number": 5,
       "text": [
        "\"Add(Symbol('x'), Mul(Integer(2), Symbol('y')))\""
       ]
      }
     ],
     "prompt_number": 5
    },
    {
     "cell_type": "code",
     "collapsed": false,
     "input": [
      "exp(pi * sqrt(163)).evalf(50)"
     ],
     "language": "python",
     "metadata": {},
     "outputs": [
      {
       "latex": [
        "$$262537412640768743.99999999999925007259719818568888$$"
       ],
       "metadata": {},
       "output_type": "pyout",
       "prompt_number": 6,
       "text": [
        "262537412640768743.99999999999925007259719818568888"
       ]
      }
     ],
     "prompt_number": 6
    },
    {
     "cell_type": "markdown",
     "metadata": {},
     "source": [
      "<h2>Algebra<h2>"
     ]
    },
    {
     "cell_type": "code",
     "collapsed": false,
     "input": [
      "eq = ((x+y)**2 * (x+1))\n",
      "eq"
     ],
     "language": "python",
     "metadata": {},
     "outputs": [
      {
       "latex": [
        "$$\\left(x + 1\\right) \\left(x + y\\right)^{2}$$"
       ],
       "metadata": {},
       "output_type": "pyout",
       "prompt_number": 7,
       "text": [
        "               2\n",
        "(x + 1)\u22c5(x + y) "
       ]
      }
     ],
     "prompt_number": 7
    },
    {
     "cell_type": "code",
     "collapsed": false,
     "input": [
      "expand(eq)"
     ],
     "language": "python",
     "metadata": {},
     "outputs": [
      {
       "latex": [
        "$$x^{3} + 2 x^{2} y + x^{2} + x y^{2} + 2 x y + y^{2}$$"
       ],
       "metadata": {},
       "output_type": "pyout",
       "prompt_number": 8,
       "text": [
        " 3      2      2      2            2\n",
        "x  + 2\u22c5x \u22c5y + x  + x\u22c5y  + 2\u22c5x\u22c5y + y "
       ]
      }
     ],
     "prompt_number": 8
    },
    {
     "cell_type": "code",
     "collapsed": false,
     "input": [
      "a = 1/x + (x*sin(x) - 1)/x\n",
      "a"
     ],
     "language": "python",
     "metadata": {},
     "outputs": [
      {
       "latex": [
        "$$\\frac{1}{x} \\left(x \\sin{\\left (x \\right )} - 1\\right) + \\frac{1}{x}$$"
       ],
       "metadata": {},
       "output_type": "pyout",
       "prompt_number": 9,
       "text": [
        "x\u22c5sin(x) - 1   1\n",
        "\u2500\u2500\u2500\u2500\u2500\u2500\u2500\u2500\u2500\u2500\u2500\u2500 + \u2500\n",
        "     x         x"
       ]
      }
     ],
     "prompt_number": 9
    },
    {
     "cell_type": "code",
     "collapsed": false,
     "input": [
      "simplify(a)"
     ],
     "language": "python",
     "metadata": {},
     "outputs": [
      {
       "latex": [
        "$$\\sin{\\left (x \\right )}$$"
       ],
       "metadata": {},
       "output_type": "pyout",
       "prompt_number": 10,
       "text": [
        "sin(x)"
       ]
      }
     ],
     "prompt_number": 10
    },
    {
     "cell_type": "code",
     "collapsed": false,
     "input": [
      "eq = Eq(x**3 + 2*x**2 + 4*x + 8, 0)\n",
      "eq"
     ],
     "language": "python",
     "metadata": {},
     "outputs": [
      {
       "latex": [
        "$$x^{3} + 2 x^{2} + 4 x + 8 = 0$$"
       ],
       "metadata": {},
       "output_type": "pyout",
       "prompt_number": 11,
       "text": [
        " 3      2              \n",
        "x  + 2\u22c5x  + 4\u22c5x + 8 = 0"
       ]
      }
     ],
     "prompt_number": 11
    },
    {
     "cell_type": "code",
     "collapsed": false,
     "input": [
      "solve(eq, x)"
     ],
     "language": "python",
     "metadata": {},
     "outputs": [
      {
       "latex": [
        "$$\\begin{bmatrix}-2, & - 2 i, & 2 i\\end{bmatrix}$$"
       ],
       "metadata": {},
       "output_type": "pyout",
       "prompt_number": 12,
       "text": [
        "[-2, -2\u22c5\u2148, 2\u22c5\u2148]"
       ]
      }
     ],
     "prompt_number": 12
    },
    {
     "cell_type": "code",
     "collapsed": false,
     "input": [
      "a, b = symbols('a b')\n",
      "Sum(6*n**2 + 2**n, (n, a, b))"
     ],
     "language": "python",
     "metadata": {},
     "outputs": [
      {
       "latex": [
        "$$\\sum_{n=a}^{b} \\left(2^{n} + 6 n^{2}\\right)$$"
       ],
       "metadata": {},
       "output_type": "pyout",
       "prompt_number": 13,
       "text": [
        "  b              \n",
        " ___             \n",
        " \u2572               \n",
        "  \u2572   \u239b n      2\u239e\n",
        "  \u2571   \u239d2  + 6\u22c5n \u23a0\n",
        " \u2571               \n",
        " \u203e\u203e\u203e             \n",
        "n = a            "
       ]
      }
     ],
     "prompt_number": 13
    },
    {
     "cell_type": "markdown",
     "metadata": {},
     "source": [
      "<h2>Calculus</h2>"
     ]
    },
    {
     "cell_type": "code",
     "collapsed": false,
     "input": [
      "limit((sin(x)-x)/x**3, x, 0)"
     ],
     "language": "python",
     "metadata": {},
     "outputs": [
      {
       "latex": [
        "$$- \\frac{1}{6}$$"
       ],
       "metadata": {},
       "output_type": "pyout",
       "prompt_number": 14,
       "text": [
        "-1/6"
       ]
      }
     ],
     "prompt_number": 14
    },
    {
     "cell_type": "code",
     "collapsed": false,
     "input": [
      "(1/cos(x)).series(x, 0, 6)"
     ],
     "language": "python",
     "metadata": {},
     "outputs": [
      {
       "latex": [
        "$$1 + \\frac{x^{2}}{2} + \\frac{5 x^{4}}{24} + \\mathcal{O}\\left(x^{6}\\right)$$"
       ],
       "metadata": {},
       "output_type": "pyout",
       "prompt_number": 15,
       "text": [
        "     2      4        \n",
        "    x    5\u22c5x     \u239b 6\u239e\n",
        "1 + \u2500\u2500 + \u2500\u2500\u2500\u2500 + O\u239dx \u23a0\n",
        "    2     24         "
       ]
      }
     ],
     "prompt_number": 15
    },
    {
     "cell_type": "code",
     "collapsed": false,
     "input": [
      "diff(cos(x**2)**2 / (1+x), x)"
     ],
     "language": "python",
     "metadata": {},
     "outputs": [
      {
       "latex": [
        "$$- \\frac{4 x \\cos{\\left (x^{2} \\right )}}{x + 1} \\sin{\\left (x^{2} \\right )} - \\frac{\\cos^{2}{\\left (x^{2} \\right )}}{\\left(x + 1\\right)^{2}}$$"
       ],
       "metadata": {},
       "output_type": "pyout",
       "prompt_number": 16,
       "text": [
        "         \u239b 2\u239e    \u239b 2\u239e      2\u239b 2\u239e\n",
        "  4\u22c5x\u22c5sin\u239dx \u23a0\u22c5cos\u239dx \u23a0   cos \u239dx \u23a0\n",
        "- \u2500\u2500\u2500\u2500\u2500\u2500\u2500\u2500\u2500\u2500\u2500\u2500\u2500\u2500\u2500\u2500\u2500\u2500\u2500 - \u2500\u2500\u2500\u2500\u2500\u2500\u2500\u2500\n",
        "         x + 1                 2\n",
        "                        (x + 1) "
       ]
      }
     ],
     "prompt_number": 16
    },
    {
     "cell_type": "code",
     "collapsed": false,
     "input": [
      "integrate(x**2 * cos(x), (x, 0, pi/2))"
     ],
     "language": "python",
     "metadata": {},
     "outputs": [
      {
       "latex": [
        "$$-2 + \\frac{\\pi^{2}}{4}$$"
       ],
       "metadata": {},
       "output_type": "pyout",
       "prompt_number": 17,
       "text": [
        "      2\n",
        "     \u03c0 \n",
        "-2 + \u2500\u2500\n",
        "     4 "
       ]
      }
     ],
     "prompt_number": 17
    },
    {
     "cell_type": "code",
     "collapsed": false,
     "input": [
      "eqn = Eq(Derivative(f(x),x,x) + 9*f(x), 1)\n",
      "display(eqn)\n",
      "dsolve(eqn, f(x))"
     ],
     "language": "python",
     "metadata": {},
     "outputs": [
      {
       "latex": [
        "$$9 f{\\left (x \\right )} + \\frac{d^{2}}{d x^{2}}  f{\\left (x \\right )} = 1$$"
       ],
       "metadata": {},
       "output_type": "display_data",
       "text": [
        "           2          \n",
        "          d           \n",
        "9\u22c5f(x) + \u2500\u2500\u2500(f(x)) = 1\n",
        "           2          \n",
        "         dx           "
       ]
      },
      {
       "latex": [
        "$$f{\\left (x \\right )} = C_{1} \\sin{\\left (3 x \\right )} + C_{2} \\cos{\\left (3 x \\right )} + \\frac{1}{9}$$"
       ],
       "metadata": {},
       "output_type": "pyout",
       "prompt_number": 18,
       "text": [
        "f(x) = C\u2081\u22c5sin(3\u22c5x) + C\u2082\u22c5cos(3\u22c5x) + 1/9"
       ]
      }
     ],
     "prompt_number": 18
    },
    {
     "cell_type": "markdown",
     "metadata": {},
     "source": [
      "# Illustrating Taylor series\n",
      "\n",
      "We will define a function to compute the Taylor series expansions of a symbolically defined expression at\n",
      "various orders and visualize all the approximations together with the original function"
     ]
    },
    {
     "cell_type": "code",
     "collapsed": false,
     "input": [
      "%matplotlib inline\n",
      "import numpy as np\n",
      "import matplotlib.pyplot as plt"
     ],
     "language": "python",
     "metadata": {},
     "outputs": [],
     "prompt_number": 19
    },
    {
     "cell_type": "code",
     "collapsed": true,
     "input": [
      "# You can change the default figure size to be a bit larger if you want,\n",
      "# uncomment the next line for that:\n",
      "#plt.rc('figure', figsize=(10, 6))"
     ],
     "language": "python",
     "metadata": {},
     "outputs": [],
     "prompt_number": 20
    },
    {
     "cell_type": "code",
     "collapsed": true,
     "input": [
      "def plot_taylor_approximations(func, x0=None, orders=(2, 4), xrange=(0,1), yrange=None, npts=200):\n",
      "    \"\"\"Plot the Taylor series approximations to a function at various orders.\n",
      "\n",
      "    Parameters\n",
      "    ----------\n",
      "    func : a sympy function\n",
      "    x0 : float\n",
      "      Origin of the Taylor series expansion.  If not given, x0=xrange[0].\n",
      "    orders : list\n",
      "      List of integers with the orders of Taylor series to show.  Default is (2, 4).\n",
      "    xrange : 2-tuple or array.\n",
      "      Either an (xmin, xmax) tuple indicating the x range for the plot (default is (0, 1)),\n",
      "      or the actual array of values to use.\n",
      "    yrange : 2-tuple\n",
      "      (ymin, ymax) tuple indicating the y range for the plot.  If not given,\n",
      "      the full range of values will be automatically used. \n",
      "    npts : int\n",
      "      Number of points to sample the x range with.  Default is 200.\n",
      "    \"\"\"\n",
      "    if not callable(func):\n",
      "        raise ValueError('func must be callable')\n",
      "    if isinstance(xrange, (list, tuple)):\n",
      "        x = np.linspace(float(xrange[0]), float(xrange[1]), npts)\n",
      "    else:\n",
      "        x = xrange\n",
      "    if x0 is None: x0 = x[0]\n",
      "    xs = sym.Symbol('x')\n",
      "    # Make a numpy-callable form of the original function for plotting\n",
      "    fx = func(xs)\n",
      "    f = sym.lambdify(xs, fx, modules=['numpy'])\n",
      "    # We could use latex(fx) instead of str(), but matploblib gets confused\n",
      "    # with some of the (valid) latex constructs sympy emits.  So we play it safe.\n",
      "    plt.plot(x, f(x), label=str(fx), lw=2)\n",
      "    # Build the Taylor approximations, plotting as we go\n",
      "    apps = {}\n",
      "    for order in orders:\n",
      "        app = fx.series(xs, x0, n=order).removeO()\n",
      "        apps[order] = app\n",
      "        # Must be careful here: if the approximation is a constant, we can't\n",
      "        # blindly use lambdify as it won't do the right thing.  In that case, \n",
      "        # evaluate the number as a float and fill the y array with that value.\n",
      "        if isinstance(app, sym.numbers.Number):\n",
      "            y = np.zeros_like(x)\n",
      "            y.fill(app.evalf())\n",
      "        else:\n",
      "            fa = sym.lambdify(xs, app, modules=['numpy'])\n",
      "            y = fa(x)\n",
      "        tex = sym.latex(app).replace('$', '')\n",
      "        plt.plot(x, y, label=r'$n=%s:\\, %s$' % (order, tex) )\n",
      "        \n",
      "    # Plot refinements\n",
      "    if yrange is not None:\n",
      "        plt.ylim(*yrange)\n",
      "    plt.grid()\n",
      "    plt.legend(loc='best').get_frame().set_alpha(0.8)"
     ],
     "language": "python",
     "metadata": {},
     "outputs": [],
     "prompt_number": 21
    },
    {
     "cell_type": "markdown",
     "metadata": {},
     "source": [
      "With this function defined, we can now use it for any sympy function or expression"
     ]
    },
    {
     "cell_type": "code",
     "collapsed": false,
     "input": [
      "plot_taylor_approximations(sin, 0, [2, 4, 6], (0, 2*pi), (-2,2))"
     ],
     "language": "python",
     "metadata": {},
     "outputs": [
      {
       "metadata": {},
       "output_type": "display_data",
       "png": "[encoded data removed]",
       "text": [
        "<matplotlib.figure.Figure at 0x10797be10>"
       ]
      }
     ],
     "prompt_number": 22
    },
    {
     "cell_type": "code",
     "collapsed": false,
     "input": [
      "plot_taylor_approximations(cos, 0, [2, 4, 6], (0, 2*pi), (-2,2))"
     ],
     "language": "python",
     "metadata": {},
     "outputs": [
      {
       "metadata": {},
       "output_type": "display_data",
       "png": "[encoded data removed]",
       "text": [
        "<matplotlib.figure.Figure at 0x10984b250>"
       ]
      }
     ],
     "prompt_number": 23
    },
    {
     "cell_type": "markdown",
     "metadata": {},
     "source": [
      "This shows easily how a Taylor series is useless beyond its convergence radius, illustrated by \n",
      "a simple function that has singularities on the real axis:"
     ]
    },
    {
     "cell_type": "code",
     "collapsed": false,
     "input": [
      "# For an expression made from elementary functions, we must first make it into\n",
      "# a callable function, the simplest way is to use the Python lambda construct.\n",
      "plot_taylor_approximations(lambda x: 1/cos(x), 0, [2,4,6], (0, 2*pi), (-5,5))"
     ],
     "language": "python",
     "metadata": {},
     "outputs": [
      {
       "metadata": {},
       "output_type": "display_data",
       "png": "[encoded data removed]",
       "text": [
        "<matplotlib.figure.Figure at 0x109a2a8d0>"
       ]
      }
     ],
     "prompt_number": 24
    }
   ],
   "metadata": {}
  }
 ]
}