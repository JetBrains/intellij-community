{
 "metadata": {
  "name": "",
  "signature": "sha256:0b4b631419772e40e0f4893f5a0f0fe089a39e46c8862af0256164628394302d"
 },
 "nbformat": 3,
 "nbformat_minor": 0,
 "worksheets": [
  {
   "cells": [
    {
         "cell_type": "code",
         "collapsed": true,
         "input": [
          "e = x + 2*y"
         ],
         "language": "python",
         "metadata": {},
         "outputs": [],
         "prompt_number": 4
        }
    ]
  }
  ]
}